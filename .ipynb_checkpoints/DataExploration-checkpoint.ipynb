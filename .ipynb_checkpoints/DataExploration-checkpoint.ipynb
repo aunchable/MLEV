{
 "cells": [
  {
   "cell_type": "code",
   "execution_count": 1,
   "metadata": {
    "collapsed": false
   },
   "outputs": [
    {
     "name": "stderr",
     "output_type": "stream",
     "text": [
      "/Users/surajnair/anaconda/envs/py27/lib/python2.7/site-packages/matplotlib/font_manager.py:273: UserWarning: Matplotlib is building the font cache using fc-list. This may take a moment.\n",
      "  warnings.warn('Matplotlib is building the font cache using fc-list. This may take a moment.')\n"
     ]
    }
   ],
   "source": [
    "import numpy as np\n",
    "import pandas as pd\n",
    "import matplotlib.pyplot as plt\n",
    "import scipy as sp\n",
    "from scipy import signal\n",
    "%matplotlib inline"
   ]
  },
  {
   "cell_type": "code",
   "execution_count": 158,
   "metadata": {
    "collapsed": false
   },
   "outputs": [],
   "source": [
    "INPUTPATH = '../Influx Data - JPL/JPL-EV-L2-57_Actual.csv'\n",
    "INPUTPATH2 = '../Influx Data - JPL/JPL-EV-L2-57_Allocation.csv'\n",
    "\n",
    "def get_timeseries(path):\n",
    "    df = pd.read_csv(path)\n",
    "#     df = df.loc[df['name'] == 'mamps_actual']\n",
    "    df = pd.to_numeric(df.value, errors='coerce')\n",
    "    df = df.dropna()\n",
    "    timeseries = df.tolist()\n",
    "    return list(map(int, timeseries))\n",
    "\n",
    "def get_decay(sub):\n",
    "    if 2 * len(sub)/3 % 2 ==0:\n",
    "        ks = 1 + 2 * len(sub)/3\n",
    "    else:\n",
    "        ks = 2 * len(sub)/3\n",
    "\n",
    "    clean = signal.medfilt(sub, kernel_size=ks)\n",
    "    \n",
    "    mx_diff = 0\n",
    "    mx_ind = 0\n",
    "    for i in range(51, len(clean) - 52):\n",
    "        slope1 = (clean[i+1] - clean[i-1]) / 2\n",
    "        slope2 = (clean[i+50] - clean[i-50]) / 100\n",
    "        if (slope2 < 0) and abs(slope1 - slope2) > mx_diff:\n",
    "            mx_diff = abs(slope1 - slope2)\n",
    "            mx_ind = i\n",
    "    \n",
    "    return clean[mx_ind:]\n",
    "\n",
    "def split_timeseries(ts):\n",
    "    ts_splits = []\n",
    "    curr_start = -1\n",
    "    num_zeros = 0\n",
    "    in_curr = False\n",
    "    for i in range(len(ts)):\n",
    "        if ts[i] > 0 and not in_curr:\n",
    "            curr_start = i\n",
    "            in_curr = True\n",
    "        elif ts[i] <= 100 and in_curr:\n",
    "            if ts[i-1] > 0:\n",
    "                num_zeros = 0\n",
    "            num_zeros += 1\n",
    "            if num_zeros == 2:\n",
    "                if (i - curr_start > 100) and np.max(ts[curr_start:i]) > 2000:\n",
    "#                     ind = get_decay_index(ts[curr_start:i])\n",
    "                    ts_splits.append(get_decay(ts[curr_start:i]))\n",
    "                num_zeros = 0\n",
    "                in_curr = False\n",
    "\n",
    "    return ts_splits\n",
    "\n",
    "\n",
    "ts = get_timeseries(INPUTPATH)\n",
    "data = split_timeseries(ts)\n",
    "\n",
    "ts2 = get_timeseries(INPUTPATH2)\n",
    "data2 = split_timeseries(ts2)"
   ]
  },
  {
   "cell_type": "code",
   "execution_count": 167,
   "metadata": {
    "collapsed": false
   },
   "outputs": [],
   "source": [
    "sub = data[3]\n",
    "\n",
    "def exp(x, a, c, d):\n",
    "    return a*np.exp(-c*x)+d\n",
    "\n",
    "xx = np.linspace(0,len(sub), num=len(sub))\n",
    "# print xx\n",
    "popt, pcov = sp.optimize.curve_fit(exp, xx, sub, p0=(1, 1e-6, 1), maxfev = 99999)"
   ]
  },
  {
   "cell_type": "code",
   "execution_count": 170,
   "metadata": {
    "collapsed": false
   },
   "outputs": [
    {
     "name": "stdout",
     "output_type": "stream",
     "text": [
      "[ nan  nan  nan  nan  nan  nan  nan  nan  nan  nan  nan  nan  nan  nan  nan\n",
      "  nan  nan  nan  nan  nan  nan  nan  nan  nan  nan  nan  nan  nan  nan  nan\n",
      "  nan  nan  nan  nan  nan  nan  nan  nan  nan  nan  nan  nan  nan  nan  nan\n",
      "  nan  nan  nan  nan  nan  nan  nan  nan  nan  nan  nan  nan  nan  nan  nan\n",
      "  nan  nan  nan  nan  nan  nan  nan  nan  nan  nan  nan  nan  nan  nan  nan\n",
      "  nan  nan  nan  nan  nan  nan  nan  nan  nan  nan  nan  nan  nan  nan  nan\n",
      "  nan  nan  nan  nan  nan  nan  nan  nan  nan  nan  nan  nan  nan  nan  nan\n",
      "  nan  nan  nan  nan  nan  nan  nan  nan  nan  nan  nan  nan  nan  nan  nan\n",
      "  nan  nan  nan  nan  nan  nan  nan  nan  nan  nan  nan  nan  nan  nan  nan\n",
      "  nan  nan  nan  nan  nan  nan  nan  nan  nan  nan  nan  nan  nan  nan  nan\n",
      "  nan  nan  nan  nan  nan  nan  nan  nan  nan  nan  nan  nan  nan  nan  nan\n",
      "  nan  nan  nan  nan  nan  nan  nan  nan  nan  nan  nan  nan  nan  nan  nan\n",
      "  nan  nan  nan  nan  nan  nan  nan  nan  nan  nan  nan  nan  nan  nan  nan\n",
      "  nan  nan  nan  nan  nan  nan  nan  nan  nan  nan  nan  nan  nan  nan  nan\n",
      "  nan  nan  nan  nan  nan  nan  nan  nan  nan  nan  nan  nan  nan  nan  nan\n",
      "  nan  nan  nan  nan  nan  nan]\n"
     ]
    },
    {
     "data": {
      "image/png": "[encoded data removed]",
      "text/plain": [
       "<matplotlib.figure.Figure at 0x120d3af10>"
      ]
     },
     "metadata": {},
     "output_type": "display_data"
    }
   ],
   "source": [
    "yy = exp(xx, *popt)\n",
    "print yy\n",
    "# plt.plot(sub, '.')\n",
    "plt.plot(xx,yy)\n",
    "plt.show()"
   ]
  },
  {
   "cell_type": "code",
   "execution_count": null,
   "metadata": {
    "collapsed": true
   },
   "outputs": [],
   "source": []
  }
 ],
 "metadata": {
  "anaconda-cloud": {},
  "kernelspec": {
   "display_name": "Python [conda env:py27]",
   "language": "python",
   "name": "conda-env-py27-py"
  },
  "language_info": {
   "codemirror_mode": {
    "name": "ipython",
    "version": 2
   },
   "file_extension": ".py",
   "mimetype": "text/x-python",
   "name": "python",
   "nbconvert_exporter": "python",
   "pygments_lexer": "ipython2",
   "version": "2.7.12"
  }
 },
 "nbformat": 4,
 "nbformat_minor": 1
}
