{
 "cells": [
  {
   "cell_type": "code",
   "execution_count": 2,
   "metadata": {
    "collapsed": false
   },
   "outputs": [],
   "source": [
    "import numpy as np\n",
    "import pandas as pd\n",
    "import matplotlib.pyplot as plt\n",
    "import scipy as sp\n",
    "from scipy import signal\n",
    "%matplotlib inline"
   ]
  },
  {
   "cell_type": "code",
   "execution_count": 19,
   "metadata": {
    "collapsed": false
   },
   "outputs": [],
   "source": [
    "INPUTPATH = 'Influx Data - JPL/JPL-EV-L2-57_Actual.csv'\n",
    "INPUTPATH2 = 'Influx Data - JPL/JPL-EV-L2-57_Allocation.csv'\n",
    "\n",
    "def get_timeseries(path):\n",
    "    df = pd.read_csv(path)\n",
    "#     df = df.loc[df['name'] == 'mamps_actual']\n",
    "    df = pd.to_numeric(df.value, errors='coerce')\n",
    "    df = df.dropna()\n",
    "    timeseries = df.tolist()\n",
    "    return list(map(int, timeseries))\n",
    "\n",
    "def get_decay(sub):\n",
    "    if 2 * len(sub)/3 % 2 ==0:\n",
    "        ks = 1 + 2 * len(sub)/3\n",
    "    else:\n",
    "        ks = 2 * len(sub)/3\n",
    "\n",
    "    clean = signal.medfilt(sub, kernel_size=ks)\n",
    "    \n",
    "    mx_diff = 0\n",
    "    mx_ind = 0\n",
    "    for i in range(51, len(clean) - 52):\n",
    "        slope1 = (clean[i+1] - clean[i-1]) / 2\n",
    "        slope2 = (clean[i+50] - clean[i-50]) / 100\n",
    "        if (slope2 < 0) and abs(slope1 - slope2) > mx_diff:\n",
    "            mx_diff = abs(slope1 - slope2)\n",
    "            mx_ind = i\n",
    "    \n",
    "    return clean[mx_ind:]\n",
    "\n",
    "def split_timeseries(ts):\n",
    "    ts_splits = []\n",
    "    curr_start = -1\n",
    "    num_zeros = 0\n",
    "    in_curr = False\n",
    "    for i in range(len(ts)):\n",
    "        if ts[i] > 0 and not in_curr:\n",
    "            curr_start = i\n",
    "            in_curr = True\n",
    "        elif ts[i] <= 100 and in_curr:\n",
    "            if ts[i-1] > 0:\n",
    "                num_zeros = 0\n",
    "            num_zeros += 1\n",
    "            if num_zeros == 2:\n",
    "                if (i - curr_start > 100) and np.max(ts[curr_start:i]) > 2000:\n",
    "#                     ind = get_decay_index(ts[curr_start:i])\n",
    "                    ts_splits.append(get_decay(ts[curr_start:i]))\n",
    "                num_zeros = 0\n",
    "                in_curr = False\n",
    "\n",
    "    return ts_splits\n",
    "\n",
    "\n",
    "ts = get_timeseries(INPUTPATH)\n",
    "data = split_timeseries(ts)\n",
    "\n",
    "ts2 = get_timeseries(INPUTPATH2)\n",
    "data2 = split_timeseries(ts2)"
   ]
  },
  {
   "cell_type": "code",
   "execution_count": 98,
   "metadata": {
    "collapsed": false
   },
   "outputs": [
    {
     "name": "stdout",
     "output_type": "stream",
     "text": [
      "[ 13198.  12230.  12054.  11175.  10999.   9708.   9561.   9503.   9268.\n",
      "   9239.   9004.   8828.   8359.   8212.   8212.   7244.   6980.   6863.\n",
      "   6511.   6364.   6306.   6306.   6100.   5983.   5954.   5924.   5924.\n",
      "   5748.   5631.   5338.   5338.   4839.   4781.   4605.   4517.   4458.\n",
      "   4399.   4399.   4311.   4194.   3783.   3783.   3754.   3725.   3666.\n",
      "   3637.   3578.   3226.   3197.   3109.   3079.   2933.   2933.   2786.\n",
      "   2757.   2669.   2669.   2669.   2610.   2610.   2581.   2581.   2522.\n",
      "   2522.   2522.   2493.   2463.   2463.   2434.   2434.   2405.   2376.\n",
      "   2376.   2317.   2288.   2258.   2200.   2200.   2112.   2082.   2082.\n",
      "    645.    645.    645.    645.    616.    616.    616.    616.    616.\n",
      "    616.    616.    557.    469.    469.    469.    469.    469.    469.\n",
      "    469.    440.    440.    440.    440.    440.    440.    440.    440.\n",
      "    440.    440.    440.    440.    440.    440.    440.    440.    440.\n",
      "    440.    440.    440.    440.    440.    440.    440.    440.    440.\n",
      "    440.    440.    440.    440.    440.    440.    440.    440.    440.\n",
      "    440.    440.    440.    440.    440.    440.    440.    440.    410.\n",
      "    410.    410.    410.    410.    410.    410.    410.    410.    410.\n",
      "    410.    410.    410.    410.    410.    410.    410.    410.    410.\n",
      "    410.    410.    410.    410.    410.    410.    410.    410.    410.\n",
      "    410.    410.    410.    410.    410.    410.    410.    410.    410.\n",
      "    410.    410.    410.    410.    410.    381.    381.    381.    381.\n",
      "    381.    381.    381.    381.    381.    381.    381.    381.    381.\n",
      "    381.    381.    381.    381.    381.    381.    381.    381.    381.\n",
      "    381.    381.    381.    381.    381.    381.    381.    381.    381.\n",
      "    381.    381.    381.    381.    381.    381.    381.    381.    381.\n",
      "    381.    381.    352.    352.    352.    352.    352.    322.      0.]\n"
     ]
    }
   ],
   "source": [
    "sub = data[12]\n",
    "sub_scaled = []\n",
    "\n",
    "for i in range(len(sub)):\n",
    "    sub_scaled[i] = np.log(sub[i])\n",
    "\n",
    "def lin(x, a, b):\n",
    "    return a*x + b\n",
    "\n",
    "xx = np.linspace(0,len(sub), num=len(sub))\n",
    "# print xx\n",
    "popt, pcov = sp.optimize.curve_fit(lin, xx, sub)"
   ]
  },
  {
   "cell_type": "code",
   "execution_count": 97,
   "metadata": {
    "collapsed": false
   },
   "outputs": [
    {
     "data": {
      "image/png": "[encoded data removed]",
      "text/plain": [
       "<matplotlib.figure.Figure at 0x11fc3f850>"
      ]
     },
     "metadata": {},
     "output_type": "display_data"
    }
   ],
   "source": [
    "xx = np.linspace(0,len(sub), num=len(sub) )\n",
    "yy = lin(xx, *popt)\n",
    "#print yy\n",
    "plt.plot(sub, '.')\n",
    "plt.plot(xx,yy)\n",
    "plt.show()"
   ]
  },
  {
   "cell_type": "code",
   "execution_count": null,
   "metadata": {
    "collapsed": true
   },
   "outputs": [],
   "source": []
  }
 ],
 "metadata": {
  "anaconda-cloud": {},
  "kernelspec": {
   "display_name": "Python [Root]",
   "language": "python",
   "name": "Python [Root]"
  },
  "language_info": {
   "codemirror_mode": {
    "name": "ipython",
    "version": 2
   },
   "file_extension": ".py",
   "mimetype": "text/x-python",
   "name": "python",
   "nbconvert_exporter": "python",
   "pygments_lexer": "ipython2",
   "version": "2.7.12"
  }
 },
 "nbformat": 4,
 "nbformat_minor": 1
}
